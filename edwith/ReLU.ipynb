{
  "nbformat": 4,
  "nbformat_minor": 0,
  "metadata": {
    "colab": {
      "name": "ReLU.ipynb",
      "provenance": [],
      "collapsed_sections": [],
      "authorship_tag": "ABX9TyOK90TH2Mj0R1UgJqtaQXTK",
      "include_colab_link": true
    },
    "kernelspec": {
      "name": "python3",
      "display_name": "Python 3"
    }
  },
  "cells": [
    {
      "cell_type": "markdown",
      "metadata": {
        "id": "view-in-github",
        "colab_type": "text"
      },
      "source": [
        "<a href=\"https://colab.research.google.com/github/agitated-deduction/ML_is_mild_lemon/blob/master/edwith/ReLU.ipynb\" target=\"_parent\"><img src=\"https://colab.research.google.com/assets/colab-badge.svg\" alt=\"Open In Colab\"/></a>"
      ]
    },
    {
      "cell_type": "markdown",
      "metadata": {
        "id": "tLUpAZnZwSu1",
        "colab_type": "text"
      },
      "source": [
        "neural network의 학습\n",
        "\n",
        "인풋 ->네트워크 ->아웃풋\n",
        "ground-truth - output = loss\n",
        "d(loss) = gradient\n",
        "아웃풋 -> 인풋: backpropagation(네트워크 학습)\n",
        "\n",
        "네트워크가 딥하다면 시그모이드 그래프가 많아지고 그러면 gradient 가 0인게 많아짐. 그럼 vanishing gradient.\n",
        "\n",
        "Relu\n",
        "f(x) = max(0, x)\n",
        " \n",
        "tf.keras.activation -> sigmoid, tanh, relu, elu, selu 등 있으니 다양하게 사용해보면서 성능차이 비교\n",
        "\n",
        "tf.keras.layers -> leaky relu : 0보다 작은 값을 가질때 매우 작은 알파값.\n",
        "\n"
      ]
    },
    {
      "cell_type": "code",
      "metadata": {
        "id": "N1uDxCv6x0mj",
        "colab_type": "code",
        "colab": {}
      },
      "source": [
        "import tensorflow as tf\n",
        "import numpy as np\n",
        "from tensorflow.keras.utils import to_categorical\n",
        "from tensorflow.keras.datasets import mnist"
      ],
      "execution_count": 0,
      "outputs": []
    },
    {
      "cell_type": "markdown",
      "metadata": {
        "id": "w337cXM60nJ7",
        "colab_type": "text"
      },
      "source": [
        "# Load mnist"
      ]
    },
    {
      "cell_type": "code",
      "metadata": {
        "id": "1ZV3p0gWyBBu",
        "colab_type": "code",
        "colab": {}
      },
      "source": [
        "def load_mnist():\n",
        "  (train_data, train_labels), (test_data, test_labels) = mnist.load_data()\n",
        "  \n",
        "  #tensorflow가 input으로 받는 데이터는 [batch_size, height, width, channel]이렇게 구성되어 있어야 한다.\n",
        "  train_data = np.expand_dims(train_data, axis = -1) #[N, 28, 28]  ---> [N, 28, 28, 1] , aixs = -1(==3) 맨 끝에 추가\n",
        "  test_data = np.expand_dims(test_data, axis = -1)   #gray scale image라 channel 1 생략\n",
        "\n",
        "  train_data, test_data = normalize(train_data, test_data) #[0~255] ---> [0~1]\n",
        "\n",
        "  train_labels = to_categorical(train_labels, 10) #[N,]--->[N, 10] 라벨의 개수. One hot encoding\n",
        "  test_labels = to_categorical(test_labels, 10)\n",
        "\n",
        "  return train_data, train_labels, test_data, test_labels"
      ],
      "execution_count": 0,
      "outputs": []
    },
    {
      "cell_type": "code",
      "metadata": {
        "id": "rCulXBCBzgFl",
        "colab_type": "code",
        "colab": {}
      },
      "source": [
        "def normalize(train_data, test_data):\n",
        "  train_data = train_data.astype(np.float32)/255.0\n",
        "  test_data = test_data.astype(np.float32)/255.0\n",
        "\n",
        "  return train_data, test_data"
      ],
      "execution_count": 0,
      "outputs": []
    },
    {
      "cell_type": "markdown",
      "metadata": {
        "id": "IuYeppit0r2D",
        "colab_type": "text"
      },
      "source": [
        "# Create network"
      ]
    },
    {
      "cell_type": "code",
      "metadata": {
        "id": "isKJOgXl0c72",
        "colab_type": "code",
        "colab": {}
      },
      "source": [
        "def flatten(): # 쉐입을 펼춰주는 역할\n",
        "  return tf.keras.layers.Flatten()\n",
        "def dense(channel, weight_init): #fully connected layer를 사용하기 위해\n",
        "  return tf.keras.layers.Dense(units = chnnel, use_bias = True, kernel_initializer = weight_init)\n",
        "  #유닛은 아웃풋으로 나갈 채널 설정, 바이어스 트루이면 사용 펄스면 사용하지 않음, 커널 이니셜라이저 웨이트 이니셜라이저\n",
        "def relu():\n",
        "  return tf.keras.layers.Activation(tf.keras.activation.relu)"
      ],
      "execution_count": 0,
      "outputs": []
    },
    {
      "cell_type": "code",
      "metadata": {
        "id": "3xVrzVxe1u3m",
        "colab_type": "code",
        "colab": {}
      },
      "source": [
        "class create_model(tf.keras.Model): # model을 class타입으로 짤 때에는 tf.keras.Model을 상속해야 한다.\n",
        "  def __init__(self, label_dim): #label_dim: 네트워크의 logits을 구할때 몇 개의 아웃풋을 낼 것인지.\n",
        "    super(create_model, self).__init__()\n",
        "\n",
        "    weight_init = tf.keras.initializers.RandomNormal()\n",
        "    self.model = tf.keras.Sequential() #리스트 자료구조 타입과 유사\n",
        "    \n",
        "    #flatten으로 바꿔주는 이유는 나중에 fully connected layer를 이용하기 위해.\n",
        "    self.model.add(flatten()) #[N, 28, 28, 1] ->[N, 784]\n",
        "\n",
        "    for i in range(2):\n",
        "      #[N, 784] -> [N, 256] -> [N, 256]\n",
        "      self.model.add(dense(256, weight_init))\n",
        "      self.model.add(relu())\n",
        "\n",
        "    self.model.add(dense(label_dim, weight_init)) #[N, 256] -> [N, 10]\n",
        "\n",
        "  def call(self, x, training = None, mask = None): #모델을 불렀을때 아웃풋을 내는 함수\n",
        "    x = self.model(x)\n",
        "    return x"
      ],
      "execution_count": 0,
      "outputs": []
    },
    {
      "cell_type": "code",
      "metadata": {
        "id": "j08yGjGL3SFI",
        "colab_type": "code",
        "colab": {}
      },
      "source": [
        "#클래스 말고 함수형으로 짜는 방법, 성능 차이 ㄴㄴ\n",
        "def create_model(label):\n",
        "  weight_init = tf.keras.initializers.RandomNormal()\n",
        "\n",
        "  model = tf.keras.Sequential()\n",
        "  model.add(flatten)\n",
        "  \n",
        "  for i in range(2):\n",
        "    model.add(dense(256, weight_init))\n",
        "    model.add(relu())\n",
        "\n",
        "  model.add(dense(label_dim, weight_init))\n",
        "\n",
        "  return model"
      ],
      "execution_count": 0,
      "outputs": []
    },
    {
      "cell_type": "markdown",
      "metadata": {
        "id": "ouuIE7BC9Dkh",
        "colab_type": "text"
      },
      "source": [
        "# Define loss"
      ]
    },
    {
      "cell_type": "code",
      "metadata": {
        "id": "DoeUd0kD8Ugh",
        "colab_type": "code",
        "colab": {}
      },
      "source": [
        "def loss_fn(model, images, labels):\n",
        "  logits = model(images, training = True) # 모델에 이미지를 넣어서 이미지가 뭔지 logits 값 추출\n",
        "  #추출한 logits과 label을 softmax_cross_entroy를 이용해 loss를 구함.\n",
        "  loss = tf.reduce_mean(tf.nn.softmax_cross_entropy_with_logits_v2(logits = logints, labels = labels))\n",
        "  # ex) image :7, label = 0 0 0 0 0 0 0 1 0 0, softmax(logit) = 0.1 0.1 0.0 0.2 0.0 0.0 0.0 0.6 0.0 0.0\n",
        "  return loss\n",
        "\n",
        "def accuracy_fn(model, images, labels):\n",
        "  logits = model(images, trainin = False) \n",
        "  prediction = tf.equal(tf.argmax(logits, -1), tf.argmax(labels, -1)) #argmax 가장 숫자가 큰 값의 위치\n",
        "  #logits과 labels의 shape 구조 [batch size, label_dim], argmax(, -1) : 값이 가장 큰 label_dim 위치. \n",
        "  #prediction은 true false 로 나옴\n",
        "  accuracy = tf.reduce_mean(tf.cast(prediction, tf.float32)) #typecast로 boolean을 숫자로 변환\n",
        "  return accuracy\n",
        "\n",
        "def grad(model, images, labels):\n",
        "  with tf.GradientTape() as tape:\n",
        "    loss = loss_fn(model, images, labels)\n",
        "  return tape.gradient(loss, model.variables)\n"
      ],
      "execution_count": 0,
      "outputs": []
    },
    {
      "cell_type": "markdown",
      "metadata": {
        "id": "nhrwnIHE1IIR",
        "colab_type": "text"
      },
      "source": [
        "# Experiments(parameters)"
      ]
    },
    {
      "cell_type": "code",
      "metadata": {
        "id": "0xd2ksoS1E3N",
        "colab_type": "code",
        "colab": {}
      },
      "source": [
        "#dataset\n",
        "train_x, train_y, test_x, test_y = load_mnist()  #6만 , 1만\n",
        "#parameters\n",
        "learning_rate = 0.001\n",
        "batch_size = 128\n",
        "\n",
        "training_epochs = 1\n",
        "training_iterations = len(train_x) //batch_size\n",
        "\n",
        "label_dim = 10\n",
        "\n",
        "#Graph input using dataset API\n",
        "#6만개의 트레이닝 이미지를 넣기에는 메모리에 부담, batch사이즈 만큼 줌.\n",
        "#shuffle : #데이터셋 섞음. 값음 inputdata보다 숫자가 크면 됨.\n",
        "#prefetch : 메모리에 미리 배치사이즈만큼 올려두라는 명령어. 학습 속도를 빠르게 함.\n",
        "#batch().repeat : #배치를 몇개만큼 반복.\n",
        "train_dataset = tf.data.Dataset.from_tensor_slices((train_x, train_y)).\\\n",
        "    shuffle(buffer_size=100000).\\\n",
        "    prefetch(buffer_size=batch_size).\\\n",
        "    batch(batch_size, drop_remainder=True)\n",
        "\n",
        "test_dataset = tf.data.Dataset.from_tensor_slices((test_x, test_y)).\\\n",
        "    shuffle(buffer_size=100000).\\\n",
        "    prefetch(buffer_size=len(test_x)).\\\n",
        "    batch(len(test_x))"
      ],
      "execution_count": 0,
      "outputs": []
    },
    {
      "cell_type": "markdown",
      "metadata": {
        "id": "bQFnz43a3oSl",
        "colab_type": "text"
      },
      "source": [
        "# Experiments(model)"
      ]
    },
    {
      "cell_type": "code",
      "metadata": {
        "id": "jI2BP52_3rwC",
        "colab_type": "code",
        "outputId": "7ba4ffc7-087a-4ed8-c41c-367fc2af63a6",
        "colab": {
          "base_uri": "https://localhost:8080/",
          "height": 394
        }
      },
      "source": [
        "#dataset iterator\n",
        "#train_iterator = train_dataset.make_one_shot_iterator()\n",
        "#test_iterator = test_dataset.make_one_shot_iterator()\n",
        "\n",
        "#model\n",
        "network = create_model(label_dim)\n",
        "\n",
        "#training \n",
        "optimizer = tf.train.AdamOptimizer(learning_rate = learning_rate)\n",
        "\n",
        "\"\"\" Writer \"\"\"\n",
        "checkpoint_dir = 'checkpoints'\n",
        "logs_dir = 'logs'\n",
        "\n",
        "model_dir = 'nn_softmax'\n",
        "\n",
        "checkpoint_dir = os.path.join(checkpoint_dir, model_dir)\n",
        "check_folder(checkpoint_dir)\n",
        "checkpoint_prefix = os.path.join(checkpoint_dir, model_dir)\n",
        "logs_dir = os.path.join(logs_dir, model_dir)"
      ],
      "execution_count": 22,
      "outputs": [
        {
          "output_type": "error",
          "ename": "TypeError",
          "evalue": "ignored",
          "traceback": [
            "\u001b[0;31m---------------------------------------------------------------------------\u001b[0m",
            "\u001b[0;31mTypeError\u001b[0m                                 Traceback (most recent call last)",
            "\u001b[0;32m<ipython-input-22-ee3d7448732c>\u001b[0m in \u001b[0;36m<module>\u001b[0;34m()\u001b[0m\n\u001b[1;32m      4\u001b[0m \u001b[0;34m\u001b[0m\u001b[0m\n\u001b[1;32m      5\u001b[0m \u001b[0;31m#model\u001b[0m\u001b[0;34m\u001b[0m\u001b[0;34m\u001b[0m\u001b[0;34m\u001b[0m\u001b[0m\n\u001b[0;32m----> 6\u001b[0;31m \u001b[0mnetwork\u001b[0m \u001b[0;34m=\u001b[0m \u001b[0mcreate_model\u001b[0m\u001b[0;34m(\u001b[0m\u001b[0mlabel_dim\u001b[0m\u001b[0;34m)\u001b[0m\u001b[0;34m\u001b[0m\u001b[0;34m\u001b[0m\u001b[0m\n\u001b[0m\u001b[1;32m      7\u001b[0m \u001b[0;34m\u001b[0m\u001b[0m\n\u001b[1;32m      8\u001b[0m \u001b[0;31m#training\u001b[0m\u001b[0;34m\u001b[0m\u001b[0;34m\u001b[0m\u001b[0;34m\u001b[0m\u001b[0m\n",
            "\u001b[0;32m<ipython-input-21-58be71b1c4c4>\u001b[0m in \u001b[0;36mcreate_model\u001b[0;34m(label)\u001b[0m\n\u001b[1;32m      4\u001b[0m \u001b[0;34m\u001b[0m\u001b[0m\n\u001b[1;32m      5\u001b[0m   \u001b[0mmodel\u001b[0m \u001b[0;34m=\u001b[0m \u001b[0mtf\u001b[0m\u001b[0;34m.\u001b[0m\u001b[0mkeras\u001b[0m\u001b[0;34m.\u001b[0m\u001b[0mSequential\u001b[0m\u001b[0;34m(\u001b[0m\u001b[0;34m)\u001b[0m\u001b[0;34m\u001b[0m\u001b[0;34m\u001b[0m\u001b[0m\n\u001b[0;32m----> 6\u001b[0;31m   \u001b[0mmodel\u001b[0m\u001b[0;34m.\u001b[0m\u001b[0madd\u001b[0m\u001b[0;34m(\u001b[0m\u001b[0mflatten\u001b[0m\u001b[0;34m)\u001b[0m\u001b[0;34m\u001b[0m\u001b[0;34m\u001b[0m\u001b[0m\n\u001b[0m\u001b[1;32m      7\u001b[0m \u001b[0;34m\u001b[0m\u001b[0m\n\u001b[1;32m      8\u001b[0m   \u001b[0;32mfor\u001b[0m \u001b[0mi\u001b[0m \u001b[0;32min\u001b[0m \u001b[0mrange\u001b[0m\u001b[0;34m(\u001b[0m\u001b[0;36m2\u001b[0m\u001b[0;34m)\u001b[0m\u001b[0;34m:\u001b[0m\u001b[0;34m\u001b[0m\u001b[0;34m\u001b[0m\u001b[0m\n",
            "\u001b[0;32m/usr/local/lib/python3.6/dist-packages/tensorflow/python/training/tracking/base.py\u001b[0m in \u001b[0;36m_method_wrapper\u001b[0;34m(self, *args, **kwargs)\u001b[0m\n\u001b[1;32m    454\u001b[0m     \u001b[0mself\u001b[0m\u001b[0;34m.\u001b[0m\u001b[0m_self_setattr_tracking\u001b[0m \u001b[0;34m=\u001b[0m \u001b[0;32mFalse\u001b[0m  \u001b[0;31m# pylint: disable=protected-access\u001b[0m\u001b[0;34m\u001b[0m\u001b[0;34m\u001b[0m\u001b[0m\n\u001b[1;32m    455\u001b[0m     \u001b[0;32mtry\u001b[0m\u001b[0;34m:\u001b[0m\u001b[0;34m\u001b[0m\u001b[0;34m\u001b[0m\u001b[0m\n\u001b[0;32m--> 456\u001b[0;31m       \u001b[0mresult\u001b[0m \u001b[0;34m=\u001b[0m \u001b[0mmethod\u001b[0m\u001b[0;34m(\u001b[0m\u001b[0mself\u001b[0m\u001b[0;34m,\u001b[0m \u001b[0;34m*\u001b[0m\u001b[0margs\u001b[0m\u001b[0;34m,\u001b[0m \u001b[0;34m**\u001b[0m\u001b[0mkwargs\u001b[0m\u001b[0;34m)\u001b[0m\u001b[0;34m\u001b[0m\u001b[0;34m\u001b[0m\u001b[0m\n\u001b[0m\u001b[1;32m    457\u001b[0m     \u001b[0;32mfinally\u001b[0m\u001b[0;34m:\u001b[0m\u001b[0;34m\u001b[0m\u001b[0;34m\u001b[0m\u001b[0m\n\u001b[1;32m    458\u001b[0m       \u001b[0mself\u001b[0m\u001b[0;34m.\u001b[0m\u001b[0m_self_setattr_tracking\u001b[0m \u001b[0;34m=\u001b[0m \u001b[0mprevious_value\u001b[0m  \u001b[0;31m# pylint: disable=protected-access\u001b[0m\u001b[0;34m\u001b[0m\u001b[0;34m\u001b[0m\u001b[0m\n",
            "\u001b[0;32m/usr/local/lib/python3.6/dist-packages/tensorflow/python/keras/engine/sequential.py\u001b[0m in \u001b[0;36madd\u001b[0;34m(self, layer)\u001b[0m\n\u001b[1;32m    172\u001b[0m       raise TypeError('The added layer must be '\n\u001b[1;32m    173\u001b[0m                       \u001b[0;34m'an instance of class Layer. '\u001b[0m\u001b[0;34m\u001b[0m\u001b[0;34m\u001b[0m\u001b[0m\n\u001b[0;32m--> 174\u001b[0;31m                       'Found: ' + str(layer))\n\u001b[0m\u001b[1;32m    175\u001b[0m \u001b[0;34m\u001b[0m\u001b[0m\n\u001b[1;32m    176\u001b[0m     \u001b[0mtf_utils\u001b[0m\u001b[0;34m.\u001b[0m\u001b[0massert_no_legacy_layers\u001b[0m\u001b[0;34m(\u001b[0m\u001b[0;34m[\u001b[0m\u001b[0mlayer\u001b[0m\u001b[0;34m]\u001b[0m\u001b[0;34m)\u001b[0m\u001b[0;34m\u001b[0m\u001b[0;34m\u001b[0m\u001b[0m\n",
            "\u001b[0;31mTypeError\u001b[0m: The added layer must be an instance of class Layer. Found: <function flatten at 0x7fac05138620>"
          ]
        }
      ]
    },
    {
      "cell_type": "markdown",
      "metadata": {
        "id": "Df5_CduyOq1P",
        "colab_type": "text"
      },
      "source": [
        "# Experiments(Eager mode)"
      ]
    },
    {
      "cell_type": "code",
      "metadata": {
        "id": "mmGDVAtJOplA",
        "colab_type": "code",
        "colab": {}
      },
      "source": [
        "#네트워크가 학습을 하다가 중간에 끊겼을 때 다시 재학습을 원하면 변경이 되었던 weight들을 불러내는 역할\n",
        "#즉 학습되어서 저장된 weight들을 다시 불러내는데 도움을 주는 역할\n",
        "checkpoint = tf.train.Checkpoint(dnn=network)\n",
        "#각각의 weight의 iteration을 알려줌\n",
        "global_step = tf.train.create_global_step()\n",
        "\n",
        "\n",
        "for epoch in range(start_epoch, training_epochs):\n",
        "  for idx in range(start_iteration, training_iterations):\n",
        "    train_input, train_label = train_iterator.get_next()\n",
        "\n",
        "    grads = grad(network, train_input, train_label)\n",
        "    #optimizer에 gradient적용 후 네트워크 학습을 시킨다.\n",
        "    optimizer.apply_gradients(grads_and_vars = zip(grads, network.variables), global_step = global_step)\n",
        "\n",
        "    train_loss = loss_fn(network, train_input, train_label)\n",
        "    train_accuracy = accuracy_fn(network, train_input, train_label)\n",
        "\n",
        "    test_input, test_label = test.iterator.get_next()\n",
        "    test_accuracy = accuracy_fn(network, test_input, test_label)\n",
        "    print(\"Epoch: {} {}/{}, train loss: {}, train_accuracy: {}, test accuracy: {}\".format(epoch, idx, training_iterations, train_loss, train_accuracy, test_accuracy))\n",
        "    counter+=1\n",
        "\n",
        "checkpoint.save(file_prefix = checkpoint_prefix + '-{}'.format(counter))"
      ],
      "execution_count": 0,
      "outputs": []
    },
    {
      "cell_type": "markdown",
      "metadata": {
        "id": "3KKnGvTg7q-P",
        "colab_type": "text"
      },
      "source": [
        "일단 따라서 짰는데 안됨 나중에 다시 수정하기"
      ]
    },
    {
      "cell_type": "code",
      "metadata": {
        "id": "nEt3g1_z7u-8",
        "colab_type": "code",
        "colab": {}
      },
      "source": [
        ""
      ],
      "execution_count": 0,
      "outputs": []
    }
  ]
}