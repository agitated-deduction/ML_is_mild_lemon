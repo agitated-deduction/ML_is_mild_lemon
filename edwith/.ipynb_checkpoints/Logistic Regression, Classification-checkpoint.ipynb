{
 "cells": [
  {
   "cell_type": "markdown",
   "metadata": {},
   "source": [
    "# Logistic Regression\n",
    "\n",
    "* binary Classification\n",
    "(variable is either 0:positive or 1:negative)\n",
    "    * exam: pass or fail\n",
    "    * spam: notSpam or spam\n",
    "    * face: real or fake \n",
    "    * tumor: notMalignant or malignant\n",
    "\n",
    "\n",
    "* logistic vs linear\n",
    "lo 셀 수 있고 흩어져있음, discrete shoe size, the number of workers in a company\n",
    "li 연속적임 continuous, time, weight, height\n",
    "\n",
    "* Hypothesis Representation\n",
    "\n",
    "![graph](./img/hr.png)\n",
    "![graph](./img/hr2.png)\n",
    "\n",
    "linear function -> 수치형 값 -> logistic function -> 결과를 0과 1로 나눔.\n",
    "\n",
    "* sigmoid function\n",
    "\n",
    "g(z) -> z is real number ->g(z) = e^z / (e^z + 1) = 1 / (1 + e^(-z))\n",
    "\n",
    "hypothesis = tf.sigmoid(z)       #z = tf.matmul(x, 세타)+b\n",
    "hypothesis = tf.div(1., 1. + tf.exp(z))\n",
    "\n",
    "ex ) Decision Boundary 0.5 => 0 or 1\n",
    "\n",
    "* cost function\n",
    "\n",
    "세타값(w)를 랜덤하게.\n",
    "\n",
    "h세타(x) = y, cost = 0\n",
    "\n",
    "def loss_fn(hypothesis, labels): #(가설, 정답(y))\n",
    "    cost = -tf.reduce_mean(labels* tf.log(hypothesis) + (1 - labels) * tf.log(1 - hypothesis))\n",
    "    \n",
    "convex(볼록)한 구조를 가져야 한다. -> log 함수에 넣음\n",
    "cost = -tf.reduce_mean(labels* tf.log(hypothesis)+(1-labels)* tf.log(1-hypothesis))"
   ]
  }
 ],
 "metadata": {
  "kernelspec": {
   "display_name": "Python 3",
   "language": "python",
   "name": "python3"
  },
  "language_info": {
   "codemirror_mode": {
    "name": "ipython",
    "version": 3
   },
   "file_extension": ".py",
   "mimetype": "text/x-python",
   "name": "python",
   "nbconvert_exporter": "python",
   "pygments_lexer": "ipython3",
   "version": "3.7.7"
  }
 },
 "nbformat": 4,
 "nbformat_minor": 4
}
