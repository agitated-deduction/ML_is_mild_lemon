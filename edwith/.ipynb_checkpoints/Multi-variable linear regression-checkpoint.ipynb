{
 "cells": [
  {
   "cell_type": "code",
   "execution_count": 4,
   "metadata": {},
   "outputs": [
    {
     "name": "stdout",
     "output_type": "stream",
     "text": [
      "0 | 25905.609375\n",
      "100 | 7.436513423919678\n",
      "200 | 4.228032112121582\n",
      "300 | 4.207972049713135\n",
      "400 | 4.188389778137207\n",
      "500 | 4.16890811920166\n",
      "600 | 4.149489879608154\n",
      "700 | 4.130268096923828\n",
      "800 | 4.111169338226318\n",
      "900 | 4.092099666595459\n",
      "1000 | 4.073128700256348\n",
      "1100 | 4.054257869720459\n",
      "1200 | 4.035523414611816\n",
      "1300 | 4.0169196128845215\n",
      "1400 | 3.998399019241333\n",
      "1500 | 3.979921340942383\n",
      "1600 | 3.9615349769592285\n",
      "1700 | 3.9432930946350098\n",
      "1800 | 3.9251644611358643\n",
      "1900 | 3.907150983810425\n",
      "2000 | 3.8891959190368652\n"
     ]
    }
   ],
   "source": [
    "# H(x1, x2, x3) = w1x1 + w2x2 + w3x3 + b\n",
    "\n",
    "# w의 초기값은 아무거나 줘도 좋지만 보통 랜덤값으로 준다.\n",
    "# learning rate는 작은 값으로\n",
    "\n",
    "x1 = [73., 93., 89., 96., 73.]\n",
    "x2 = [80., 88., 91., 98., 66.]\n",
    "x3 = [75., 93., 90., 100., 70.]\n",
    "y = [152., 185., 180., 196., 142.]\n",
    "\n",
    "w1 = tf.Variable(tf.random.normal([1]))\n",
    "w2 = tf.Variable(tf.random.normal([1]))\n",
    "w3 = tf.Variable(tf.random.normal([1]))\n",
    "#etc.....\n",
    "\n",
    "#use Matrix!!!!!!!----->\n",
    "import numpy as np\n",
    "\n",
    "data = np.array([\n",
    "    [73., 80., 75., 152.],\n",
    "    [93., 88., 93., 185.],\n",
    "    [89., 91., 90., 180.],\n",
    "    [96., 98., 100., 196.],\n",
    "    [73., 66., 70., 142.]\n",
    "], dtype = np.float32)\n",
    "\n",
    "x = data[:, : -1] #[row, column]  모든 row 마지막 column제외 (0부터 -1까지)\n",
    "y = data[:, [-1]] #모든 row, 마지막 column (-1인덱스만)\n",
    "\n",
    "import tensorflow as tf\n",
    "\n",
    "#row 개수는 x의 개수(x의 column 개수와 동일)\n",
    "W = tf.Variable(tf.random.normal([3,1])) #3개 row  3x1행렬 \n",
    "b = tf.Variable(tf.random.normal([1]))\n",
    "\n",
    "learning_rate = 0.000001 #작게 하면 좋음\n",
    "\n",
    "# X*W로 예측. b는 생략가능\n",
    "# w1 * x1 + w2 * x2 + w3 * x3 + b\n",
    "def predict(X): \n",
    "    return tf.matmul(X, W)+b\n",
    "\n",
    "n_epochs = 2000\n",
    "for i in range(n_epochs+1):  #2001번 순회\n",
    "    with tf.GradientTape() as tape:\n",
    "        cost = tf.reduce_mean(tf.square(predict(x)-y))\n",
    "    \n",
    "    W_grad, b_grad = tape.gradient(cost, [W, b])\n",
    "    \n",
    "    W.assign_sub(learning_rate*W_grad)\n",
    "    b.assign_sub(learning_rate*b_grad)\n",
    "    \n",
    "    if i % 100 == 0:\n",
    "        print(\"{} | {}\".format(i, cost.numpy()))"
   ]
  },
  {
   "cell_type": "code",
   "execution_count": null,
   "metadata": {},
   "outputs": [],
   "source": []
  }
 ],
 "metadata": {
  "kernelspec": {
   "display_name": "Python 3",
   "language": "python",
   "name": "python3"
  },
  "language_info": {
   "codemirror_mode": {
    "name": "ipython",
    "version": 3
   },
   "file_extension": ".py",
   "mimetype": "text/x-python",
   "name": "python",
   "nbconvert_exporter": "python",
   "pygments_lexer": "ipython3",
   "version": "3.7.7"
  }
 },
 "nbformat": 4,
 "nbformat_minor": 4
}
