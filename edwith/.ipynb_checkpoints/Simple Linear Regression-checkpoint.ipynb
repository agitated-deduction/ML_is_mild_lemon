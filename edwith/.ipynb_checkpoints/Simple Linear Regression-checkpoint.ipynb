{
 "cells": [
  {
   "cell_type": "code",
   "execution_count": 3,
   "metadata": {},
   "outputs": [
    {
     "name": "stdout",
     "output_type": "stream",
     "text": [
      "0 2.4520001 0.376 tf.Tensor(45.660004, shape=(), dtype=float32)\n",
      "10 1.1036423 0.0033982974 tf.Tensor(0.20633578, shape=(), dtype=float32)\n",
      "20 1.0128218 -0.02091473 tf.Tensor(0.0010261126, shape=(), dtype=float32)\n",
      "30 1.006523 -0.021844687 tf.Tensor(9.2629794e-05, shape=(), dtype=float32)\n",
      "40 1.0059112 -0.021226583 tf.Tensor(8.2652245e-05, shape=(), dtype=float32)\n",
      "50 1.0056878 -0.0205271 tf.Tensor(7.722109e-05, shape=(), dtype=float32)\n",
      "60 1.0054966 -0.019844048 tf.Tensor(7.216302e-05, shape=(), dtype=float32)\n",
      "70 1.0053135 -0.019183282 tf.Tensor(6.743685e-05, shape=(), dtype=float32)\n",
      "80 1.0051365 -0.018544475 tf.Tensor(6.301909e-05, shape=(), dtype=float32)\n",
      "90 1.0049654 -0.017926913 tf.Tensor(5.8892492e-05, shape=(), dtype=float32)\n",
      "100 1.0048001 -0.017329952 tf.Tensor(5.5036602e-05, shape=(), dtype=float32)\n"
     ]
    }
   ],
   "source": [
    "import tensorflow as tf\n",
    "#tf.enable_eager_execution() 버전 2부터는 안써도 되는 코드임\n",
    "\n",
    "x_data = [1, 2, 3, 4, 5]\n",
    "y_data = [1, 2, 3, 4, 5]\n",
    "\n",
    "W = tf.Variable(2.9) #임의의 수\n",
    "b = tf.Variable(0.5)\n",
    "\n",
    "learning_rate = 0.01\n",
    "for i in range(100):\n",
    "    with tf.GradientTape() as tape:\n",
    "        hypothesis = W*x_data+b\n",
    "        cost = tf.reduce_mean(tf.square(hypothesis-y_data))\n",
    "    W_grad, b_grad = tape.gradient(cost, [W, b])\n",
    "    W.assign_sub(learning_rate * W_grad)\n",
    "    b.assign_sub(learning_rate* b_grad)\n",
    "    if i%10 == 0:\n",
    "        print(i, W.numpy(), b.numpy(), cost)"
   ]
  },
  {
   "cell_type": "code",
   "execution_count": null,
   "metadata": {},
   "outputs": [],
   "source": []
  },
  {
   "cell_type": "code",
   "execution_count": null,
   "metadata": {},
   "outputs": [],
   "source": []
  }
 ],
 "metadata": {
  "kernelspec": {
   "display_name": "Python 3",
   "language": "python",
   "name": "python3"
  },
  "language_info": {
   "codemirror_mode": {
    "name": "ipython",
    "version": 3
   },
   "file_extension": ".py",
   "mimetype": "text/x-python",
   "name": "python",
   "nbconvert_exporter": "python",
   "pygments_lexer": "ipython3",
   "version": "3.7.7"
  }
 },
 "nbformat": 4,
 "nbformat_minor": 4
}
