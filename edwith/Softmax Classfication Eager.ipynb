{
 "cells": [
  {
   "cell_type": "code",
   "execution_count": 2,
   "metadata": {},
   "outputs": [
    {
     "name": "stdout",
     "output_type": "stream",
     "text": [
      "2.1.0\n"
     ]
    }
   ],
   "source": [
    "import tensorflow as tf\n",
    "import numpy as np\n",
    "\n",
    "print(tf.__version__)\n",
    "tf.random.set_seed(777)"
   ]
  },
  {
   "cell_type": "code",
   "execution_count": 16,
   "metadata": {},
   "outputs": [],
   "source": [
    "x_data = [[1, 2, 1, 1],\n",
    "          [2, 1, 3, 2],\n",
    "          [3, 1, 3, 4],\n",
    "          [4, 1, 5, 5],\n",
    "          [1, 7, 5, 5],\n",
    "          [1, 2, 5, 6],\n",
    "          [1, 6, 6, 6],\n",
    "          [1, 7, 7, 7]]\n",
    "y_data = [[0, 0, 1],\n",
    "          [0, 0, 1],\n",
    "          [0, 0, 1],\n",
    "          [0, 1, 0],\n",
    "          [0, 1, 0],\n",
    "          [0, 1, 0],\n",
    "          [1, 0, 0],\n",
    "          [1, 0, 0]]\n",
    "\n",
    "#convert into numpy and float format\n",
    "x_data = np.asarray(x_data, dtype=np.float32)\n",
    "y_data = np.asarray(y_data, dtype=np.float32)"
   ]
  },
  {
   "cell_type": "markdown",
   "metadata": {},
   "source": [
    "### one-hot encoding\n",
    "\n",
    "Loss function 계산시, 값이 정수인코딩이라면, 클래스간의 관계가 균등하지 않다.\n",
    "클래스의 표현 방법이 무작위성을 가진다는 것을 표현 가능\n",
    "\n",
    "자연어 처리등에서 단어의 유사성을 구할 수 없다는 단점.\n"
   ]
  },
  {
   "cell_type": "code",
   "execution_count": 17,
   "metadata": {},
   "outputs": [
    {
     "name": "stdout",
     "output_type": "stream",
     "text": [
      "(8, 4)\n",
      "(8, 3)\n"
     ]
    }
   ],
   "source": [
    "\n",
    "#dataset을 선언합니다.\n",
    "# dataset = tf.data.Dataset.from_tensor_slices((x_data, y_data))\n",
    "# dataset = dataset.repeat().batch(2)\n",
    "\n",
    "nb_classes = 3 #class의 개수입니다.... 결과? 결과 개수인가\n",
    "\n",
    "print(x_data.shape)\n",
    "print(y_data.shape)"
   ]
  },
  {
   "cell_type": "code",
   "execution_count": 18,
   "metadata": {},
   "outputs": [
    {
     "name": "stdout",
     "output_type": "stream",
     "text": [
      "<tf.Variable 'weight:0' shape=(4, 3) dtype=float32, numpy=\n",
      "array([[-0.19601157,  0.21892233, -0.69331926],\n",
      "       [-0.7571666 ,  0.62700933,  0.7786061 ],\n",
      "       [-1.2000623 , -0.20798121, -2.2410874 ],\n",
      "       [-0.48892695, -1.3168424 ,  1.5276555 ]], dtype=float32)> <tf.Variable 'bias:0' shape=(3,) dtype=float32, numpy=array([ 0.14128284, -1.2531738 , -0.14682682], dtype=float32)>\n"
     ]
    }
   ],
   "source": [
    "#Weight and bias setting\n",
    "W = tf.Variable(tf.random.normal((4, nb_classes)), name='weight')\n",
    "b = tf.Variable(tf.random.normal((nb_classes,)), name='bias')\n",
    "variables = [W, b]\n",
    "\n",
    "print(W,b)"
   ]
  },
  {
   "cell_type": "code",
   "execution_count": 19,
   "metadata": {},
   "outputs": [
    {
     "name": "stdout",
     "output_type": "stream",
     "text": [
      "tf.Tensor(\n",
      "[[2.92883683e-02 2.06476226e-01 7.64235377e-01]\n",
      " [7.87439570e-02 6.69278800e-01 2.51977295e-01]\n",
      " [8.82659014e-03 2.16904264e-02 9.69483018e-01]\n",
      " [1.32640889e-02 1.56858221e-01 8.29877734e-01]\n",
      " [3.56227133e-07 4.90666367e-03 9.95092988e-01]\n",
      " [1.02955586e-04 6.11576368e-04 9.99285519e-01]\n",
      " [6.25253506e-07 2.54256395e-03 9.97456849e-01]\n",
      " [5.08256583e-08 9.72152979e-04 9.99027848e-01]], shape=(8, 3), dtype=float32)\n"
     ]
    }
   ],
   "source": [
    "# tf.nn.softmax computes softmax activations\n",
    "# softmax = exp(logits) / reduce_sum(exp(logits), dim)\n",
    "def hypothesis(X):\n",
    "    return tf.nn.softmax(tf.matmul(X, W) + b)\n",
    "\n",
    "print(hypothesis(x_data))"
   ]
  },
  {
   "cell_type": "code",
   "execution_count": 20,
   "metadata": {},
   "outputs": [
    {
     "name": "stdout",
     "output_type": "stream",
     "text": [
      "tf.Tensor([[0.00283937 0.03048898 0.9666716 ]], shape=(1, 3), dtype=float32)\n"
     ]
    }
   ],
   "source": [
    "# Softmax onehot test\n",
    "sample_db = [[8,2,1,4]]\n",
    "sample_db = np.asarray(sample_db, dtype=np.float32)\n",
    "\n",
    "print(hypothesis(sample_db))"
   ]
  },
  {
   "cell_type": "code",
   "execution_count": 21,
   "metadata": {},
   "outputs": [
    {
     "name": "stdout",
     "output_type": "stream",
     "text": [
      "tf.Tensor(5.9159136, shape=(), dtype=float32)\n"
     ]
    }
   ],
   "source": [
    "def cost_fn_1(X, Y):\n",
    "    logits = hypothesis(X)\n",
    "    cost = -tf.reduce_sum(Y * tf.math.log(logits), axis=1)\n",
    "    cost_mean = tf.reduce_mean(cost)\n",
    "    \n",
    "    return cost_mean\n",
    "\n",
    "print(cost_fn(x_data, y_data))"
   ]
  },
  {
   "cell_type": "markdown",
   "metadata": {},
   "source": [
    "### Cost function\n",
    "\n",
    "![crossentropy](./img/ce.png)\n",
    "\n",
    "y : 실제값\n",
    "k : 클래스의 개수\n",
    "yj : 실제값 원-핫 벡터의 j번째 인덱스\n",
    "pj : 샘플 데이터가 j번째 클래스일 확률(y_hat j로 나타내기도 함) \n",
    "\n",
    "ex)c가 실제값 원-핫 벡터에서 1을 가진 원소의 인덱스라면 pc = 1은 y_hat이 y를 정확하게 예측한 경우이다. 위의 코스트 함수에 대입해보면 -1log(1) = 0 , cost는 0이 되므로 코스트 함수로 적합하다.\n",
    "\n",
    "![crossentropy](./img/ce2.png)\n",
    "\n",
    "소프트맥스 함수의 최종 비용함수에서 k가 2라고 가정하면 logistic 회귀의 비용함수와 같다."
   ]
  },
  {
   "cell_type": "code",
   "execution_count": 22,
   "metadata": {},
   "outputs": [
    {
     "name": "stdout",
     "output_type": "stream",
     "text": [
      "tf.Tensor(6.0, shape=(), dtype=float32)\n"
     ]
    }
   ],
   "source": [
    "x = tf.constant(3.0)\n",
    "with tf.GradientTape() as tape:\n",
    "    tape.watch(x)\n",
    "    y = x * x # x^2\n",
    "dy_dx = tape.gradient(y, x) # Will compute to 6.0\n",
    "print(dy_dx)"
   ]
  },
  {
   "cell_type": "code",
   "execution_count": 23,
   "metadata": {},
   "outputs": [
    {
     "name": "stdout",
     "output_type": "stream",
     "text": [
      "[<tf.Tensor: shape=(4, 3), dtype=float32, numpy=\n",
      "array([[-0.21669796, -0.46917862,  0.6858766 ],\n",
      "       [-1.605047  , -1.0851988 ,  2.6902459 ],\n",
      "       [-1.5801449 , -1.4858341 ,  3.0659792 ],\n",
      "       [-1.5888717 , -1.6917062 ,  3.2805781 ]], dtype=float32)>, <tf.Tensor: shape=(3,), dtype=float32, numpy=array([-0.23372163, -0.24208292,  0.47580457], dtype=float32)>]\n"
     ]
    }
   ],
   "source": [
    "def grad_fn(X, Y):\n",
    "    with tf.GradientTape() as tape:\n",
    "        loss = cost_fn_1(X, Y)\n",
    "        grads = tape.gradient(loss, variables)\n",
    "\n",
    "        return grads\n",
    "\n",
    "print(grad_fn(x_data, y_data))"
   ]
  },
  {
   "cell_type": "code",
   "execution_count": 24,
   "metadata": {},
   "outputs": [
    {
     "name": "stdout",
     "output_type": "stream",
     "text": [
      "Loss at epoch 1: 3.223562\n",
      "Loss at epoch 100: 0.730418\n",
      "Loss at epoch 200: 0.612726\n",
      "Loss at epoch 300: 0.549639\n",
      "Loss at epoch 400: 0.498597\n",
      "Loss at epoch 500: 0.451360\n",
      "Loss at epoch 600: 0.405371\n",
      "Loss at epoch 700: 0.359657\n",
      "Loss at epoch 800: 0.313971\n",
      "Loss at epoch 900: 0.269458\n",
      "Loss at epoch 1000: 0.236338\n",
      "Loss at epoch 1100: 0.223562\n",
      "Loss at epoch 1200: 0.213007\n",
      "Loss at epoch 1300: 0.203368\n",
      "Loss at epoch 1400: 0.194534\n",
      "Loss at epoch 1500: 0.186408\n",
      "Loss at epoch 1600: 0.178909\n",
      "Loss at epoch 1700: 0.171969\n",
      "Loss at epoch 1800: 0.165530\n",
      "Loss at epoch 1900: 0.159539\n",
      "Loss at epoch 2000: 0.153952\n"
     ]
    }
   ],
   "source": [
    "def fit(X, Y, epochs=2000, verbose=100):\n",
    "    optimizer =  tf.keras.optimizers.SGD(learning_rate=0.1)\n",
    "\n",
    "    for i in range(epochs):\n",
    "        grads = grad_fn(X, Y)\n",
    "        optimizer.apply_gradients(zip(grads, variables))\n",
    "        if (i==0) | ((i+1)%verbose==0):\n",
    "            print('Loss at epoch %d: %f' %(i+1, cost_fn_1(X, Y).numpy()))\n",
    "            \n",
    "fit(x_data, y_data)"
   ]
  },
  {
   "cell_type": "code",
   "execution_count": 25,
   "metadata": {},
   "outputs": [
    {
     "name": "stdout",
     "output_type": "stream",
     "text": [
      "tf.Tensor([[0.00146075 0.07815406 0.9203852 ]], shape=(1, 3), dtype=float32)\n",
      "tf.Tensor([2], shape=(1,), dtype=int64)\n"
     ]
    }
   ],
   "source": [
    "sample_data = [[2,1,3,2]] # answer_label [[0,0,1]]\n",
    "sample_data = np.asarray(sample_data, dtype=np.float32)\n",
    "\n",
    "a = hypothesis(sample_data)\n",
    "\n",
    "print(a)\n",
    "print(tf.argmax(a, 1)) #index: 2"
   ]
  },
  {
   "cell_type": "code",
   "execution_count": 26,
   "metadata": {},
   "outputs": [
    {
     "name": "stdout",
     "output_type": "stream",
     "text": [
      "tf.Tensor(\n",
      "[[4.6473992e-06 1.3204942e-03 9.9867487e-01]\n",
      " [1.4607507e-03 7.8154080e-02 9.2038518e-01]\n",
      " [2.5665841e-08 1.5866157e-01 8.4133840e-01]\n",
      " [4.6157754e-07 8.5580277e-01 1.4419670e-01]\n",
      " [2.5473171e-01 7.3356521e-01 1.1703093e-02]\n",
      " [1.3420093e-01 8.6571240e-01 8.6664819e-05]\n",
      " [7.5719875e-01 2.4274853e-01 5.2737465e-05]\n",
      " [9.1697198e-01 8.3027042e-02 1.0227931e-06]], shape=(8, 3), dtype=float32)\n",
      "tf.Tensor([2 2 2 1 1 1 0 0], shape=(8,), dtype=int64)\n",
      "tf.Tensor([2 2 2 1 1 1 0 0], shape=(8,), dtype=int64)\n"
     ]
    }
   ],
   "source": [
    "b = hypothesis(x_data)\n",
    "print(b)\n",
    "print(tf.argmax(b, 1))\n",
    "print(tf.argmax(y_data, 1)) # matches with y_data"
   ]
  },
  {
   "cell_type": "code",
   "execution_count": 27,
   "metadata": {},
   "outputs": [
    {
     "name": "stdout",
     "output_type": "stream",
     "text": [
      "Loss at epoch 1: 4.056787\n",
      "Loss at epoch 500: 0.356833\n",
      "Loss at epoch 1000: 0.223017\n",
      "Loss at epoch 1500: 0.178147\n",
      "Loss at epoch 2000: 0.148037\n"
     ]
    }
   ],
   "source": [
    "class softmax_classifer(tf.keras.Model):\n",
    "    def __init__(self, nb_classes):\n",
    "        super(softmax_classifer, self).__init__()\n",
    "        self.W = tf.Variable(tf.random.normal((4, nb_classes)), name='weight')\n",
    "        self.b = tf.Variable(tf.random.normal((nb_classes,)), name='bias')\n",
    "        \n",
    "    def softmax_regression(self, X):\n",
    "        return tf.nn.softmax(tf.matmul(X, self.W) + self.b)\n",
    "    \n",
    "    def cost_fn(self, X, Y):\n",
    "        logits = self.softmax_regression(X)\n",
    "        cost = tf.reduce_mean(-tf.reduce_sum(Y * tf.math.log(logits), axis=1))        \n",
    "        return cost\n",
    "    \n",
    "    def grad_fn(self, X, Y):\n",
    "        with tf.GradientTape() as tape:\n",
    "            cost = self.cost_fn(x_data, y_data)\n",
    "            grads = tape.gradient(cost, self.variables)            \n",
    "            return grads\n",
    "    \n",
    "    def fit(self, X, Y, epochs=2000, verbose=500):\n",
    "        optimizer =  tf.keras.optimizers.SGD(learning_rate=0.1)\n",
    "\n",
    "        for i in range(epochs):\n",
    "            grads = self.grad_fn(X, Y)\n",
    "            optimizer.apply_gradients(zip(grads, self.variables))\n",
    "            if (i==0) | ((i+1)%verbose==0):\n",
    "                print('Loss at epoch %d: %f' %(i+1, self.cost_fn(X, Y).numpy()))\n",
    "            \n",
    "model = softmax_classifer(nb_classes)\n",
    "model.fit(x_data, y_data)"
   ]
  },
  {
   "cell_type": "markdown",
   "metadata": {},
   "source": [
    "# softmax fancy version"
   ]
  },
  {
   "cell_type": "code",
   "execution_count": 5,
   "metadata": {},
   "outputs": [
    {
     "name": "stdout",
     "output_type": "stream",
     "text": [
      "(101, 16) (101, 7)\n"
     ]
    }
   ],
   "source": [
    "##수식이 아니라 함수를 이용해서 구해본다.\n",
    "\n",
    "#numpy를 이용해 데이터를 load할 수 있다.\n",
    "xy = np.loadtxt('data-04-zoo.csv', delimiter=',', dtype = np.float32)\n",
    "\n",
    "#데이터 전처리.\n",
    "x_data = xy[:, 0:-1]\n",
    "y_data = xy[:, -1]\n",
    "\n",
    "nb_classes = 7\n",
    "\n",
    "#y는 one-hot의 형태로 되어있지 않음.\n",
    "#tf.one_hot()을 통해 one_hot의 형태로 변형 가능하다.\n",
    "#input : Rank N -> output : Rank N+1\n",
    "Y_one_hot = tf.one_hot(y_data.astype(np.int32), nb_classes)\n",
    "\n",
    "print(x_data.shape, Y_one_hot.shape)"
   ]
  },
  {
   "cell_type": "markdown",
   "metadata": {},
   "source": [
    "#### 학습 함수"
   ]
  },
  {
   "cell_type": "code",
   "execution_count": 12,
   "metadata": {},
   "outputs": [],
   "source": [
    "W = tf.Variable(tf.random.normal((16, nb_classes)), name = 'weight')\n",
    "b = tf.Variable(tf.random.normal((nb_classes, )), name = 'bias')\n",
    "\n",
    "variables = [W, b] #두가지를 업데이트할 variables따로 저장\n",
    "\n",
    "#hypothesis와 login_fn을 나눠서 구현했다.\n",
    "\n",
    "def logit_fn(X):\n",
    "    return tf.matmul(X, W)+b\n",
    "\n",
    "\"\"\" 위에서는 이렇게 했었음\n",
    "    def hypothesis(X):\n",
    "    return tf.nn.softmax(tf.matmul(X, W) + b)\n",
    "    \n",
    "    def cost_fn_1(X, Y):\n",
    "    logits = hypothesis(X)\n",
    "    cost = -tf.reduce_sum(Y * tf.math.log(logits), axis=1)\n",
    "    cost_mean = tf.reduce_mean(cost)\n",
    "    \n",
    "    return cost_mean\n",
    "\"\"\"\n",
    "#cost에서는 logit만 필요로 하는데 hypo는 왜 구현?\n",
    "#학습시 정확도를 맞추기 위한 용도.\n",
    "def hypothesis(X):\n",
    "    return tf.nn.softmax(logit_fn(X))\n",
    "\n",
    "def cost_fn(X, Y):\n",
    "    \n",
    "    logits = logit_fn(X)\n",
    "    cost_i = tf.keras.losses.categorical_crossentropy(y_true = Y, y_pred = logits, from_logits = True)\n",
    "    \n",
    "    cost = tf.reduce_mean(cost_i)\n",
    "    return cost\n",
    "\n",
    "#grads를 구하기 위해 GradientTape 활용\n",
    "#loss를 구하기 위해 cost_fn활용\n",
    "#loss를 기반으로variables의 W와 b업데이트\n",
    "def grad_fn(X, Y):\n",
    "    with tf.GradientTape() as tape:\n",
    "        loss = cost_fn(X, Y)\n",
    "        grads = tape.gradient(loss, variables)\n",
    "        return grads\n",
    "\n",
    "#정확도. 굳이 hypo구현한 이유\n",
    "\n",
    "#logits 보다는 hypothesis를 통해서 높은 값을 선택 예측?\n",
    "\n",
    "def prediction(X, Y):\n",
    "    pred = tf.argmax(hypothesis(X), 1)\n",
    "    correct_prediction = tf.equal(pred, tf.argmax(Y, 1))\n",
    "    accuracy = tf.reduce_mean(tf.cast(correct_prediction, tf.float32))\n",
    "    \n",
    "    return accuracy\n"
   ]
  },
  {
   "cell_type": "code",
   "execution_count": 13,
   "metadata": {},
   "outputs": [
    {
     "name": "stdout",
     "output_type": "stream",
     "text": [
      "Steps: 1 Loss: 6.631802082061768, Acc: 0.10891088843345642\n",
      "Steps: 100 Loss: 0.5726618766784668, Acc: 0.8514851331710815\n",
      "Steps: 200 Loss: 0.3897223472595215, Acc: 0.9009901285171509\n",
      "Steps: 300 Loss: 0.3014775514602661, Acc: 0.9108911156654358\n",
      "Steps: 400 Loss: 0.24435147643089294, Acc: 0.9306930899620056\n",
      "Steps: 500 Loss: 0.20434370636940002, Acc: 0.9405940771102905\n",
      "Steps: 600 Loss: 0.17501817643642426, Acc: 0.9702970385551453\n",
      "Steps: 700 Loss: 0.1527751386165619, Acc: 0.9900990128517151\n",
      "Steps: 800 Loss: 0.13542766869068146, Acc: 0.9900990128517151\n",
      "Steps: 900 Loss: 0.12156669050455093, Acc: 0.9900990128517151\n",
      "Steps: 1000 Loss: 0.11025161296129227, Acc: 0.9900990128517151\n"
     ]
    }
   ],
   "source": [
    "def fit(X, Y, epochs=1000, verbose=100):\n",
    "    optimizer =  tf.keras.optimizers.SGD(learning_rate=0.1)\n",
    "\n",
    "    for i in range(epochs):\n",
    "        grads = grad_fn(X, Y)\n",
    "        optimizer.apply_gradients(zip(grads, variables))\n",
    "        if (i==0) | ((i+1)%verbose==0):\n",
    "#             print('Loss at epoch %d: %f' %(i+1, cost_fn(X, Y).numpy()))\n",
    "            acc = prediction(X, Y).numpy()\n",
    "            loss = cost_fn(X, Y).numpy() \n",
    "            print('Steps: {} Loss: {}, Acc: {}'.format(i+1, loss, acc))\n",
    "\n",
    "fit(x_data, Y_one_hot)"
   ]
  },
  {
   "cell_type": "code",
   "execution_count": null,
   "metadata": {},
   "outputs": [],
   "source": []
  },
  {
   "cell_type": "code",
   "execution_count": null,
   "metadata": {},
   "outputs": [],
   "source": []
  }
 ],
 "metadata": {
  "kernelspec": {
   "display_name": "Python 3",
   "language": "python",
   "name": "python3"
  },
  "language_info": {
   "codemirror_mode": {
    "name": "ipython",
    "version": 3
   },
   "file_extension": ".py",
   "mimetype": "text/x-python",
   "name": "python",
   "nbconvert_exporter": "python",
   "pygments_lexer": "ipython3",
   "version": "3.7.7"
  }
 },
 "nbformat": 4,
 "nbformat_minor": 4
}
